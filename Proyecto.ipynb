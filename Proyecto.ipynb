{
 "cells": [
  {
   "cell_type": "markdown",
   "metadata": {},
   "source": [
    "# Proyecto Final \n",
    "\n",
    "### Asignatura: \n",
    "        Portafolios de Inversión \n",
    "\n",
    "### Integrantes: \n",
    "        1) Iván Andrés Arellano (714383)\n",
    "        2) Fernando Aguilar Carvajal (IF724031)\n",
    "        3) xxxx_xx\n"
   ]
  },
  {
   "cell_type": "code",
   "execution_count": 1,
   "metadata": {},
   "outputs": [],
   "source": [
    "# Se importan librerías \n",
    "import matplotlib\n",
    "import numpy as np\n",
    "import pandas as pd\n",
    "import scipy.stats as stats\n",
    "import plotly.express as px\n",
    "import scipy.optimize as opt\n",
    "import plotly.graph_objs as go\n",
    "import matplotlib.pyplot as plt\n",
    "from scipy.optimize import minimize\n",
    "import pandas_datareader.data as web\n",
    "from plotly.subplots import make_subplots"
   ]
  },
  {
   "cell_type": "code",
   "execution_count": 2,
   "metadata": {},
   "outputs": [],
   "source": [
    "# Funciones: \n",
    "\n",
    "# Función para descargar precios de cierre ajustados:\n",
    "def get_adj_closes(tickers, start_date=None, end_date=None):\n",
    "    # Fecha inicio por defecto (start_date='2010-01-01') y fecha fin por defecto (end_date=today)\n",
    "    # Descargamos DataFrame con todos los datos\n",
    "    closes = web.DataReader(name=tickers, data_source='yahoo', start=start_date, end=end_date)\n",
    "    # Solo necesitamos los precios ajustados en el cierre\n",
    "    closes = closes['Adj Close']\n",
    "    # Se ordenan los índices de manera ascendente\n",
    "    closes.sort_index(inplace=True)\n",
    "    return closes\n",
    "\n",
    "# Función Varianza\n",
    "def varianza(w,Sigma):\n",
    "    return w.T.dot(Sigma).dot(w) \n",
    "\n",
    "# Función objetivo\n",
    "def menos_RS(w,Eind,Sigma,rf):\n",
    "    Ep = Eind.T.dot(w)\n",
    "    sp = (w.T.dot(Sigma).dot(w))**.5\n",
    "    RS = (Ep-rf)/sp\n",
    "    return -RS\n",
    "\n",
    "# Función Cambio Porcentual\n",
    "def pct_chng(VA: 'Valor Actual',\n",
    "             VI: 'Valor Inicial'):\n",
    "    \n",
    "    ret = np.round(((VA-VI)/VI), 2)\n",
    "    return ret\n",
    "\n",
    "\n",
    "def simulacion_Portafolio(ret: 'Retornos',\n",
    "                       rf: 'Tasa Libre de Riesgo',\n",
    "                       g: 'Grado de Aversión al Riesgo'):\n",
    "    \n",
    "    global pesos, summary, w_EMV, w_opt, E_EMV, s_EMV,tickers\n",
    "        \n",
    "    #Rendimientos y volatilidades esperadas\n",
    "    summary = pd.DataFrame(data={'Media': 252*ret.mean(),\n",
    "                                 'Vol':((252)**(.5))*ret.std()})\n",
    "        \n",
    "    cov_ret = ret.cov() # Matriz de varianza - covarianza\n",
    "    \n",
    "    corr = ret.corr() # Matriz de correlación\n",
    "    \n",
    "    S = np.diag(summary['Vol'].values)\n",
    "    Sigma = S.dot(corr).dot(S)\n",
    "    Eind = summary['Media'].values\n",
    "    \n",
    "    n = len(Eind) # Número de activos    \n",
    "    w0 = np.ones((n,))/n # Dato inicial   \n",
    "    bnds = ((0, 1),)*n # Cotas de las variables    \n",
    "    cons={'type':'eq','fun':lambda w:w.sum()-1} # Restricciones\n",
    "    \n",
    "    # Portafolio de mínima varianza\n",
    "    minvar = minimize(fun=varianza,\n",
    "                      x0=w0,\n",
    "                      args=(Sigma,),\n",
    "                      bounds=bnds,\n",
    "                      constraints=cons,\n",
    "                      tol=1e-5)\n",
    "    \n",
    "    w_minvar = minvar.x\n",
    "    \n",
    "    E_minvar = Eind.T.dot(w_minvar)\n",
    "    s_minvar = (w_minvar.T.dot(Sigma).dot(w_minvar))**.5\n",
    "    RS_minvar = (E_minvar - rf)/s_minvar\n",
    "\n",
    "    # Portafolio EMV\n",
    "    EMV = minimize(fun = menos_RS,\n",
    "                   x0 = w0,\n",
    "                   args = (Eind, Sigma, rf),\n",
    "                   bounds = bnds,\n",
    "                   constraints = cons,\n",
    "                   tol = 1e-5)\n",
    "    w_EMV = EMV.x\n",
    "    \n",
    "    # Pesos, rendimiento y riesgo del portafolio EMV\n",
    "    E_EMV = Eind.T.dot(w_EMV)\n",
    "    s_EMV = (w_EMV.T.dot(Sigma).dot(w_EMV))**0.5\n",
    "    RS_EMV = (E_EMV - rf)/s_EMV\n",
    "    \n",
    "    #Asignación de capital\n",
    "    w_opt = (E_EMV - rf)/(g*s_EMV**2)\n",
    "    \n",
    "    pesos = [w_EMV[i]*w_opt for i in range(len(w_EMV))]\n",
    "    pesos.append(1-w_opt)\n",
    "    pesos = np.round(pesos, 4)\n",
    "    \n",
    "    tickers = ['XLK.MX','VOO.MX','VGT.MX','VHT.MX',\n",
    "              'VOX.MX','BBVA.MX','AC.MX','AMXL.MX',\n",
    "              'BIMBOA.MX','GAPB.MX','C.MX',\n",
    "              'AEROMEX.MX','WALMEX.MX','SAN.MX',\n",
    "                'GMEXICOB.MX', 'Cetes']\n",
    "    \n",
    "    a_c = pd.DataFrame(columns = ['Asignación de Capital'], index=[tickers])\n",
    "    a_c['Asignación de Capital'] = pesos\n",
    "    \n",
    "    return a_c\n",
    "\n"
   ]
  },
  {
   "cell_type": "code",
   "execution_count": 3,
   "metadata": {},
   "outputs": [],
   "source": [
    "ETFS = ['XLK.MX','VOO.MX','VGT.MX','VHT.MX','VOX.MX']\n",
    "\n",
    "Stoks = ['BBVA.MX','AC.MX','AMXL.MX',\n",
    "         'BIMBOA.MX','CUERVO.MX','VOLARA.MX',\n",
    "         'AEROMEX.MX','WALMEX.MX','SAN.MX','GMEXICOB.MX']\n",
    "\n",
    "tickers = ['XLK.MX','VOO.MX','VGT.MX','VHT.MX',\n",
    "           'VOX.MX','BBVA.MX','AC.MX','AMXL.MX',\n",
    "           'BIMBOA.MX','GAPB.MX','C.MX',\n",
    "           'AEROMEX.MX','WALMEX.MX','SAN.MX','GMEXICOB.MX' ]"
   ]
  },
  {
   "cell_type": "markdown",
   "metadata": {},
   "source": [
    "## Datos Historicos previos al 2015-12-31"
   ]
  },
  {
   "cell_type": "code",
   "execution_count": 4,
   "metadata": {},
   "outputs": [],
   "source": [
    "start_date = '2011-12-31'\n",
    "end_date = '2016-12-31'\n",
    "closes_prev = get_adj_closes(tickers=tickers,\n",
    "                        start_date= start_date , end_date=end_date)\n",
    "ret_prev = closes_prev.pct_change().dropna()\n",
    "Tasa_Fija2012_5y = 0.0546\n",
    "g = 7"
   ]
  },
  {
   "cell_type": "code",
   "execution_count": 68,
   "metadata": {
    "scrolled": true
   },
   "outputs": [
    {
     "data": {
      "text/plain": [
       "1.5296"
      ]
     },
     "execution_count": 68,
     "metadata": {},
     "output_type": "execute_result"
    }
   ],
   "source": [
    "Port_prev = simulacion_Portafolio(ret_prev,Tasa_Fija2012_5y,g)\n",
    "W_port1 = pesos\n",
    "#Port_prev\n",
    "W_port1[:-1].sum()"
   ]
  },
  {
   "cell_type": "code",
   "execution_count": 93,
   "metadata": {},
   "outputs": [],
   "source": [
    "def inversion(W:'Pesos',Costo_I:'Costo_Inicial',Costo_F:'Costo Final',capital1):\n",
    "    DestinadoXaccion = np.floor(W*capital1)\n",
    "    N_acciones = np.floor(DestinadoXaccion/Costo_I)\n",
    "    saldo_i = np.array(N_acciones)*Costo_I\n",
    "    Saldo_Inicial = saldo_i.sum()\n",
    "    Saldo_f = np.array(N_acciones)*Costo_F\n",
    "    Saldo_Final = Saldo_f.sum()\n",
    "    Retorno = ((Saldo_Final/Saldo_Inicial)-1)*100\n",
    "    \n",
    "    \n",
    "    \n",
    "    return print('Con una inversión de: ', capital1 ,'Un apalancamiento de: ', Saldo_Inicial-capital , \n",
    "                 'Tendrías una ganancia de :',Retorno,'% Con un saldo final de:',Saldo_Final)"
   ]
  },
  {
   "cell_type": "code",
   "execution_count": 94,
   "metadata": {},
   "outputs": [
    {
     "name": "stdout",
     "output_type": "stream",
     "text": [
      "Con una inversión de:  100000 Un apalancamiento de:  50666.23429107666 Tendrías una ganancia de : 38.799302311128955 % Con un saldo final de: 209123.68201446533\n"
     ]
    }
   ],
   "source": [
    "inversion(w_1,Precio_i,Precio_f,100000)"
   ]
  },
  {
   "cell_type": "markdown",
   "metadata": {},
   "source": [
    "## 2016 "
   ]
  },
  {
   "cell_type": "code",
   "execution_count": 13,
   "metadata": {},
   "outputs": [],
   "source": [
    "# Portafolio 2016\n",
    "start_date = '2015-12-31'\n",
    "end_date = '2016-12-31'\n",
    "closes_16 = get_adj_closes(tickers=tickers[:-1],\n",
    "                        start_date= start_date , end_date=end_date)\n",
    "ret_16 = closes_16.pct_change().dropna()"
   ]
  },
  {
   "cell_type": "code",
   "execution_count": 64,
   "metadata": {},
   "outputs": [
    {
     "data": {
      "text/plain": [
       "8165.668488502502"
      ]
     },
     "execution_count": 64,
     "metadata": {},
     "output_type": "execute_result"
    }
   ],
   "source": [
    "a =closes_16[:1].sum()\n",
    "a.sum()"
   ]
  },
  {
   "cell_type": "code",
   "execution_count": 58,
   "metadata": {},
   "outputs": [
    {
     "data": {
      "text/plain": [
       "Symbols\n",
       "XLK.MX           1.577392\n",
       "VOO.MX           0.400789\n",
       "VGT.MX           8.542195\n",
       "VHT.MX           5.452311\n",
       "VOX.MX          10.031424\n",
       "BBVA.MX          0.000000\n",
       "AC.MX            0.000000\n",
       "AMXL.MX          0.000000\n",
       "BIMBOA.MX        0.000000\n",
       "GAPB.MX        701.831200\n",
       "C.MX            66.375147\n",
       "AEROMEX.MX     292.252616\n",
       "WALMEX.MX        0.000000\n",
       "SAN.MX          13.998816\n",
       "GMEXICOB.MX      0.000000\n",
       "Name: 2016-01-04 00:00:00, dtype: float64"
      ]
     },
     "execution_count": 58,
     "metadata": {},
     "output_type": "execute_result"
    }
   ],
   "source": [
    "w_1 =W_port1[:-1]\n",
    "capital = 100000\n",
    "Ret = ret_16\n",
    "Precio_i = closes_16.iloc[1]\n",
    "Precio_f = closes_16.iloc[-1]\n",
    "Dest = np.floor(w_1*capital)\n",
    "n_Acciones = Dest/Precio_i\n",
    "n_Acciones"
   ]
  },
  {
   "cell_type": "code",
   "execution_count": 59,
   "metadata": {},
   "outputs": [],
   "source": [
    "N_acciones = np.floor(n_Acciones)\n",
    "Precios = N_acciones*Precio_i\n",
    "a =np.sum(Precios)\n",
    "Saldo_i = a.sum()"
   ]
  },
  {
   "cell_type": "code",
   "execution_count": 60,
   "metadata": {},
   "outputs": [
    {
     "data": {
      "text/plain": [
       "150666.23429107666"
      ]
     },
     "execution_count": 60,
     "metadata": {},
     "output_type": "execute_result"
    }
   ],
   "source": [
    "a"
   ]
  },
  {
   "cell_type": "code",
   "execution_count": null,
   "metadata": {},
   "outputs": [],
   "source": []
  },
  {
   "cell_type": "code",
   "execution_count": 54,
   "metadata": {},
   "outputs": [],
   "source": [
    "Precios_Final = N_acciones*Precio_f\n",
    "Saldo_f = Precios_Final.sum()"
   ]
  },
  {
   "cell_type": "code",
   "execution_count": 55,
   "metadata": {},
   "outputs": [
    {
     "data": {
      "text/plain": [
       "0.3879930231112896"
      ]
     },
     "execution_count": 55,
     "metadata": {},
     "output_type": "execute_result"
    }
   ],
   "source": [
    "(Saldo_f/Saldo_i)-1"
   ]
  },
  {
   "cell_type": "code",
   "execution_count": 7,
   "metadata": {},
   "outputs": [
    {
     "data": {
      "text/html": [
       "<div>\n",
       "<style scoped>\n",
       "    .dataframe tbody tr th:only-of-type {\n",
       "        vertical-align: middle;\n",
       "    }\n",
       "\n",
       "    .dataframe tbody tr th {\n",
       "        vertical-align: top;\n",
       "    }\n",
       "\n",
       "    .dataframe thead th {\n",
       "        text-align: right;\n",
       "    }\n",
       "</style>\n",
       "<table border=\"1\" class=\"dataframe\">\n",
       "  <thead>\n",
       "    <tr style=\"text-align: right;\">\n",
       "      <th>Symbols</th>\n",
       "      <th>XLK.MX</th>\n",
       "      <th>VOO.MX</th>\n",
       "      <th>VGT.MX</th>\n",
       "      <th>VHT.MX</th>\n",
       "      <th>VOX.MX</th>\n",
       "      <th>BBVA.MX</th>\n",
       "      <th>AC.MX</th>\n",
       "      <th>AMXL.MX</th>\n",
       "      <th>BIMBOA.MX</th>\n",
       "      <th>GAPB.MX</th>\n",
       "      <th>C.MX</th>\n",
       "      <th>AEROMEX.MX</th>\n",
       "      <th>WALMEX.MX</th>\n",
       "      <th>SAN.MX</th>\n",
       "      <th>GMEXICOB.MX</th>\n",
       "      <th>Cetes</th>\n",
       "    </tr>\n",
       "    <tr>\n",
       "      <th>Date</th>\n",
       "      <th></th>\n",
       "      <th></th>\n",
       "      <th></th>\n",
       "      <th></th>\n",
       "      <th></th>\n",
       "      <th></th>\n",
       "      <th></th>\n",
       "      <th></th>\n",
       "      <th></th>\n",
       "      <th></th>\n",
       "      <th></th>\n",
       "      <th></th>\n",
       "      <th></th>\n",
       "      <th></th>\n",
       "      <th></th>\n",
       "      <th></th>\n",
       "    </tr>\n",
       "  </thead>\n",
       "  <tbody>\n",
       "    <tr>\n",
       "      <th>2016-12-26</th>\n",
       "      <td>1009.52002</td>\n",
       "      <td>NaN</td>\n",
       "      <td>NaN</td>\n",
       "      <td>NaN</td>\n",
       "      <td>NaN</td>\n",
       "      <td>138.163269</td>\n",
       "      <td>91.983765</td>\n",
       "      <td>11.295853</td>\n",
       "      <td>41.995285</td>\n",
       "      <td>130.713638</td>\n",
       "      <td>1288.974121</td>\n",
       "      <td>39.209999</td>\n",
       "      <td>32.701839</td>\n",
       "      <td>49.488346</td>\n",
       "      <td>44.403854</td>\n",
       "      <td>NaN</td>\n",
       "    </tr>\n",
       "    <tr>\n",
       "      <th>2016-12-27</th>\n",
       "      <td>1025.00000</td>\n",
       "      <td>4317.299805</td>\n",
       "      <td>123.760002</td>\n",
       "      <td>2657.899902</td>\n",
       "      <td>101.400002</td>\n",
       "      <td>138.163269</td>\n",
       "      <td>92.139709</td>\n",
       "      <td>11.330745</td>\n",
       "      <td>41.657745</td>\n",
       "      <td>130.596603</td>\n",
       "      <td>1263.266113</td>\n",
       "      <td>39.150002</td>\n",
       "      <td>32.640274</td>\n",
       "      <td>50.095268</td>\n",
       "      <td>44.523281</td>\n",
       "      <td>NaN</td>\n",
       "    </tr>\n",
       "    <tr>\n",
       "      <th>2016-12-28</th>\n",
       "      <td>1020.00000</td>\n",
       "      <td>4284.430176</td>\n",
       "      <td>122.589996</td>\n",
       "      <td>127.029999</td>\n",
       "      <td>100.610001</td>\n",
       "      <td>136.182404</td>\n",
       "      <td>93.352524</td>\n",
       "      <td>11.339468</td>\n",
       "      <td>42.351574</td>\n",
       "      <td>130.822830</td>\n",
       "      <td>1241.874512</td>\n",
       "      <td>39.250000</td>\n",
       "      <td>32.860161</td>\n",
       "      <td>48.802044</td>\n",
       "      <td>45.972359</td>\n",
       "      <td>NaN</td>\n",
       "    </tr>\n",
       "    <tr>\n",
       "      <th>2016-12-29</th>\n",
       "      <td>1004.00000</td>\n",
       "      <td>4220.000000</td>\n",
       "      <td>2534.840088</td>\n",
       "      <td>2633.270020</td>\n",
       "      <td>100.779999</td>\n",
       "      <td>136.281464</td>\n",
       "      <td>94.435410</td>\n",
       "      <td>11.452861</td>\n",
       "      <td>44.011131</td>\n",
       "      <td>132.328720</td>\n",
       "      <td>1224.052856</td>\n",
       "      <td>39.230000</td>\n",
       "      <td>33.027271</td>\n",
       "      <td>48.993454</td>\n",
       "      <td>45.948475</td>\n",
       "      <td>NaN</td>\n",
       "    </tr>\n",
       "    <tr>\n",
       "      <th>2016-12-30</th>\n",
       "      <td>1010.00000</td>\n",
       "      <td>4252.000000</td>\n",
       "      <td>2534.840088</td>\n",
       "      <td>126.650002</td>\n",
       "      <td>100.000000</td>\n",
       "      <td>137.668060</td>\n",
       "      <td>93.621078</td>\n",
       "      <td>11.365635</td>\n",
       "      <td>44.076763</td>\n",
       "      <td>133.015335</td>\n",
       "      <td>1225.654175</td>\n",
       "      <td>39.099998</td>\n",
       "      <td>32.587494</td>\n",
       "      <td>49.815147</td>\n",
       "      <td>44.929352</td>\n",
       "      <td>NaN</td>\n",
       "    </tr>\n",
       "  </tbody>\n",
       "</table>\n",
       "</div>"
      ],
      "text/plain": [
       "Symbols         XLK.MX       VOO.MX       VGT.MX       VHT.MX      VOX.MX  \\\n",
       "Date                                                                        \n",
       "2016-12-26  1009.52002          NaN          NaN          NaN         NaN   \n",
       "2016-12-27  1025.00000  4317.299805   123.760002  2657.899902  101.400002   \n",
       "2016-12-28  1020.00000  4284.430176   122.589996   127.029999  100.610001   \n",
       "2016-12-29  1004.00000  4220.000000  2534.840088  2633.270020  100.779999   \n",
       "2016-12-30  1010.00000  4252.000000  2534.840088   126.650002  100.000000   \n",
       "\n",
       "Symbols        BBVA.MX      AC.MX    AMXL.MX  BIMBOA.MX     GAPB.MX  \\\n",
       "Date                                                                  \n",
       "2016-12-26  138.163269  91.983765  11.295853  41.995285  130.713638   \n",
       "2016-12-27  138.163269  92.139709  11.330745  41.657745  130.596603   \n",
       "2016-12-28  136.182404  93.352524  11.339468  42.351574  130.822830   \n",
       "2016-12-29  136.281464  94.435410  11.452861  44.011131  132.328720   \n",
       "2016-12-30  137.668060  93.621078  11.365635  44.076763  133.015335   \n",
       "\n",
       "Symbols            C.MX  AEROMEX.MX  WALMEX.MX     SAN.MX  GMEXICOB.MX  Cetes  \n",
       "Date                                                                           \n",
       "2016-12-26  1288.974121   39.209999  32.701839  49.488346    44.403854    NaN  \n",
       "2016-12-27  1263.266113   39.150002  32.640274  50.095268    44.523281    NaN  \n",
       "2016-12-28  1241.874512   39.250000  32.860161  48.802044    45.972359    NaN  \n",
       "2016-12-29  1224.052856   39.230000  33.027271  48.993454    45.948475    NaN  \n",
       "2016-12-30  1225.654175   39.099998  32.587494  49.815147    44.929352    NaN  "
      ]
     },
     "execution_count": 7,
     "metadata": {},
     "output_type": "execute_result"
    }
   ],
   "source": [
    "closes_16.tail()"
   ]
  },
  {
   "cell_type": "code",
   "execution_count": 20,
   "metadata": {},
   "outputs": [],
   "source": [
    "ret_16 = closes_16.pct_change().dropna()"
   ]
  },
  {
   "cell_type": "code",
   "execution_count": null,
   "metadata": {},
   "outputs": [],
   "source": []
  }
 ],
 "metadata": {
  "kernelspec": {
   "display_name": "Python 3",
   "language": "python",
   "name": "python3"
  },
  "language_info": {
   "codemirror_mode": {
    "name": "ipython",
    "version": 3
   },
   "file_extension": ".py",
   "mimetype": "text/x-python",
   "name": "python",
   "nbconvert_exporter": "python",
   "pygments_lexer": "ipython3",
   "version": "3.8.5"
  }
 },
 "nbformat": 4,
 "nbformat_minor": 4
}
