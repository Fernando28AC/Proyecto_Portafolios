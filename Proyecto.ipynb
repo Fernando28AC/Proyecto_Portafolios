{
 "cells": [
  {
   "cell_type": "markdown",
   "metadata": {},
   "source": [
    "# Proyecto Final \n",
    "\n",
    "### Asignatura: \n",
    "        Portafolios de Inversión \n",
    "\n",
    "### Integrantes: \n",
    "        1) Iván Andrés Arellano (714383)\n",
    "        2) xxx_xxx\n",
    "        3) xxxx_xx\n"
   ]
  },
  {
   "cell_type": "code",
   "execution_count": 1,
   "metadata": {},
   "outputs": [],
   "source": [
    "# Se importan librerías \n",
    "import pandas as pd\n",
    "import numpy as np\n",
    "import matplotlib.pyplot as plt \n",
    "import pandas_datareader.data as web\n",
    "%matplotlib inline\n",
    "from matplotlib import pyplot as plt"
   ]
  },
  {
   "cell_type": "code",
   "execution_count": 2,
   "metadata": {},
   "outputs": [],
   "source": [
    "# Funciones: \n",
    "# Función para descargar precios de cierre ajustados:\n",
    "def get_adj_closes(tickers, start_date=None, end_date=None):\n",
    "    # Fecha inicio por defecto (start_date='2010-01-01') y fecha fin por defecto (end_date=today)\n",
    "    # Descargamos DataFrame con todos los datos\n",
    "    closes = web.DataReader(name=tickers, data_source='yahoo', start=start_date, end=end_date)\n",
    "    # Solo necesitamos los precios ajustados en el cierre\n",
    "    closes = closes['Adj Close']\n",
    "    # Se ordenan los índices de manera ascendente\n",
    "    closes.sort_index(inplace=True)\n",
    "    return closes"
   ]
  },
  {
   "cell_type": "code",
   "execution_count": null,
   "metadata": {},
   "outputs": [],
   "source": [
    "# Información\n",
    "closes = get_adj_closes(tickers=['^GSPC' , 'MSFT' , 'WBA' , 'TSLA' ],\n",
    "                        start_date= '2015-01-01')"
   ]
  }
 ],
 "metadata": {
  "kernelspec": {
   "display_name": "Python 3",
   "language": "python",
   "name": "python3"
  },
  "language_info": {
   "codemirror_mode": {
    "name": "ipython",
    "version": 3
   },
   "file_extension": ".py",
   "mimetype": "text/x-python",
   "name": "python",
   "nbconvert_exporter": "python",
   "pygments_lexer": "ipython3",
   "version": "3.8.3"
  }
 },
 "nbformat": 4,
 "nbformat_minor": 4
}
